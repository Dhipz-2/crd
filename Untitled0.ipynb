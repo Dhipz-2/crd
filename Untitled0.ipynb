{
  "nbformat": 4,
  "nbformat_minor": 0,
  "metadata": {
    "colab": {
      "name": "Untitled0.ipynb",
      "provenance": []
    },
    "kernelspec": {
      "name": "python3",
      "display_name": "Python 3"
    }
  },
  "cells": [
    {
      "cell_type": "code",
      "metadata": {
        "colab": {
          "base_uri": "https://localhost:8080/"
        },
        "id": "QZh2W4Wb_E6q",
        "outputId": "9a8989b8-c111-4393-cf34-1883fa092dba"
      },
      "source": [
        "d={}\n",
        "def create(key,value,timeout=0):\n",
        "    if key in d:\n",
        "        print(\"error: this key already exists\")\n",
        "    else:\n",
        "        if(key.isalpha()):\n",
        "            if len(d)<(1024*1020*1024) and value<=(16*1024*1024): \n",
        "                l=[value,timeout]\n",
        "                if len(key)<=32: \n",
        "                    d[key]=l\n",
        "            else:\n",
        "                print(\"error: Memory limit exceeded!! \")\n",
        "        else:\n",
        "            print(\"error: Invalind key_name!! key_name must contain only alphabets and no special characters or numbers\")#error message3\n",
        "\n",
        "def read(key):\n",
        "    if key not in d:\n",
        "        print(\"error: given key does not exist in database. Please enter a valid key\") \n",
        "    else:\n",
        "        b=d[key]\n",
        "        if b[1]!=0:\n",
        "            stri=str(key)+\":\"+str(b[0]) \n",
        "            return stri\n",
        "        else:\n",
        "            stri=str(key)+\":\"+str(b[0])\n",
        "            return stri\n",
        "\n",
        "def delete(key):\n",
        "    if key not in d:\n",
        "        print(\"error: given key does not exist in database. Please enter a valid key\") \n",
        "    else:\n",
        "        b=d[key]\n",
        "        if b[1]!=0:\n",
        "            del d[key]\n",
        "            print(\"key is successfully deleted\")\n",
        "            \n",
        "n = int(input(\"Enter 1 - create , 2 - read or 3 - delete ?\"))\n",
        "if n==1:\n",
        "  key = str(input(\"Enter your key\"))\n",
        "  value = int(input(\"Enter your value\"))\n",
        "  create(key,value)\n",
        "if n==2:\n",
        "  key = str(input(\"Enter your key\"))\n",
        "  read(key)\n",
        "if n==3:\n",
        "  key = str(input(\"Enter your key\"))\n",
        "  delete(key)"
      ],
      "execution_count": 17,
      "outputs": [
        {
          "output_type": "stream",
          "text": [
            "Enter your keydhipika\n",
            "Enter your value22\n",
            "Enter your keydhipika\n",
            "Enter your keykanmani\n",
            "error: given key does not exist in database. Please enter a valid key\n"
          ],
          "name": "stdout"
        }
      ]
    }
  ]
}